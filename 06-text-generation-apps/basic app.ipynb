{
 "cells": [
  {
   "cell_type": "code",
   "execution_count": 1,
   "metadata": {},
   "outputs": [],
   "source": [
    "import os\n",
    "from dotenv import load_dotenv\n",
    "\n",
    "_ = load_dotenv()"
   ]
  },
  {
   "cell_type": "code",
   "execution_count": 3,
   "metadata": {},
   "outputs": [],
   "source": [
    "from openai import AzureOpenAI"
   ]
  },
  {
   "cell_type": "code",
   "execution_count": 4,
   "metadata": {},
   "outputs": [],
   "source": [
    "client = AzureOpenAI(\n",
    "    azure_endpoint=os.environ[\"AZURE_OPENAI_ENDPOINT\"],\n",
    "    api_key=os.environ[\"AZURE_OPENAI_API_KEY\"],\n",
    "    api_version=os.environ[\"AZURE_OPENAI_API_VERSION\"],\n",
    ")\n",
    "\n",
    "deployment = os.environ[\"AZURE_OPENAI_DEPLOYMENT\"]"
   ]
  },
  {
   "cell_type": "code",
   "execution_count": 5,
   "metadata": {},
   "outputs": [],
   "source": [
    "prompt = \"Complete the following: Once upon a time there was a\"\n",
    "messages = [{\"role\": \"user\", \"content\": prompt}]"
   ]
  },
  {
   "cell_type": "code",
   "execution_count": 6,
   "metadata": {},
   "outputs": [],
   "source": [
    "completion = client.chat.completions.create(model=deployment, messages=messages)"
   ]
  },
  {
   "cell_type": "code",
   "execution_count": 12,
   "metadata": {},
   "outputs": [
    {
     "name": "stdout",
     "output_type": "stream",
     "text": [
      "Once upon a time, there was a small village nestled between two towering mountains. In this village lived a young girl named Lila, known for her boundless curiosity and adventurous spirit. The villagers often spoke of a mystical forest that lay just beyond the mountains, filled with secrets and wonders that had yet to be discovered.\n",
      "\n",
      "Lila, with her bright eyes twinkling with excitement, dreamed of exploring this enchanted forest. Every evening, she would sit by the village fountain, listening to the elders’ tales of shimmering streams, talking animals, and ancient trees that whispered forgotten stories. One fateful day, unable to contain her longing any longer, she decided to embark on a journey to uncover the mysteries of the forest.\n",
      "\n",
      "With a small backpack filled with essentials—a map, some bread, and a curious little charm her grandmother had given her—Lila set off at dawn. The sun peeked over the mountains, casting a golden glow on the path ahead. As she walked, the air filled with the sweet scent of blooming wildflowers and the cheerful songs of birds.\n",
      "\n",
      "After hours of hiking, Lila finally reached the edge of the mystical forest. Towering trees with vibrant green leaves stood like guardians, inviting her in. Taking a deep breath, she stepped into the shadows of the trees, where sunlight danced between the branches.\n",
      "\n",
      "What awaited her inside was beyond her wildest dreams. There were delicate fairies flitting about, glowing mushrooms illuminating the ground, and a sparkling stream that seemed to hum a soft melody. Lila's heart raced with wonder as she ventured deeper, eager to uncover the secrets that lay hidden within.\n",
      "\n",
      "But little did she know, as she wandered further, she would encounter not only magical creatures but also face challenges that would test her bravery and kindness, teaching her lessons that would stay with her for a lifetime. And so, her adventure began, a tale woven with enchantment, discovery, and the true magic of the heart.\n"
     ]
    }
   ],
   "source": [
    "print(completion.choices[0].message.content)"
   ]
  },
  {
   "cell_type": "code",
   "execution_count": null,
   "metadata": {},
   "outputs": [],
   "source": []
  }
 ],
 "metadata": {
  "kernelspec": {
   "display_name": "azure_ai",
   "language": "python",
   "name": "python3"
  },
  "language_info": {
   "codemirror_mode": {
    "name": "ipython",
    "version": 3
   },
   "file_extension": ".py",
   "mimetype": "text/x-python",
   "name": "python",
   "nbconvert_exporter": "python",
   "pygments_lexer": "ipython3",
   "version": "3.12.9"
  }
 },
 "nbformat": 4,
 "nbformat_minor": 2
}
