{
 "cells": [
  {
   "cell_type": "code",
   "execution_count": 1,
   "metadata": {},
   "outputs": [],
   "source": [
    "import os\n",
    "from dotenv import load_dotenv\n",
    "\n",
    "_ = load_dotenv()"
   ]
  },
  {
   "cell_type": "code",
   "execution_count": 2,
   "metadata": {},
   "outputs": [],
   "source": [
    "from openai import AzureOpenAI"
   ]
  },
  {
   "cell_type": "code",
   "execution_count": 3,
   "metadata": {},
   "outputs": [],
   "source": [
    "client = AzureOpenAI(\n",
    "    azure_endpoint=os.environ[\"AZURE_OPENAI_ENDPOINT\"],\n",
    "    api_key=os.environ[\"AZURE_OPENAI_API_KEY\"],\n",
    "    api_version=os.environ[\"AZURE_OPENAI_API_VERSION\"],\n",
    ")\n",
    "\n",
    "deployment = os.environ[\"AZURE_OPENAI_DEPLOYMENT\"]"
   ]
  },
  {
   "cell_type": "code",
   "execution_count": 4,
   "metadata": {},
   "outputs": [],
   "source": [
    "no_recipes = input(\"No of recipes (for example, 5: \")\n",
    "\n",
    "ingredients = input(\n",
    "    \"List of ingredients (for example, chicken, potatoes, and carrots: \"\n",
    ")\n",
    "\n",
    "filter = input(\"Filter (for example, vegetarian, vegan, or gluten-free: \")\n",
    "\n",
    "prompt = f\"Show me {no_recipes} recipes for a dish with the following ingredients: {ingredients}. Per recipe, list all the ingredients used, no {filter}: \"\n",
    "messages = [{\"role\": \"user\", \"content\": prompt}]"
   ]
  },
  {
   "cell_type": "code",
   "execution_count": 5,
   "metadata": {},
   "outputs": [],
   "source": [
    "completion = client.chat.completions.create(\n",
    "    model=deployment,\n",
    "    messages=messages,\n",
    "    max_tokens=600,\n",
    "    temperature=0.1,\n",
    ")"
   ]
  },
  {
   "cell_type": "code",
   "execution_count": 6,
   "metadata": {},
   "outputs": [
    {
     "name": "stdout",
     "output_type": "stream",
     "text": [
      "Here's a simple and delicious recipe for **Roasted Potatoes and Carrots**.\n",
      "\n",
      "### Ingredients:\n",
      "- 4 medium potatoes, peeled and diced\n",
      "- 4 medium carrots, peeled and sliced\n",
      "- 3 tablespoons olive oil\n",
      "- 1 teaspoon garlic powder\n",
      "- 1 teaspoon dried thyme (or fresh thyme, if available)\n",
      "- 1 teaspoon paprika\n",
      "- Salt and pepper to taste\n",
      "- Fresh parsley, chopped (for garnish, optional)\n",
      "\n",
      "### Instructions:\n",
      "1. **Preheat the Oven**: Preheat your oven to 425°F (220°C).\n",
      "  \n",
      "2. **Prepare the Vegetables**: In a large bowl, combine the diced potatoes and sliced carrots.\n",
      "\n",
      "3. **Season the Vegetables**: Drizzle the olive oil over the vegetables. Add garlic powder, dried thyme, paprika, salt, and pepper. Toss everything together until the vegetables are well coated.\n",
      "\n",
      "4. **Roast**: Spread the seasoned vegetables in a single layer on a baking sheet. Make sure they are not overcrowded to ensure even roasting.\n",
      "\n",
      "5. **Bake**: Roast in the preheated oven for about 25-30 minutes, or until the potatoes and carrots are tender and golden brown. Stir halfway through for even cooking.\n",
      "\n",
      "6. **Serve**: Remove from the oven and garnish with fresh parsley if desired. Serve warm.\n",
      "\n",
      "Enjoy your delicious roasted potatoes and carrots!\n"
     ]
    }
   ],
   "source": [
    "print(completion.choices[0].message.content)"
   ]
  },
  {
   "cell_type": "code",
   "execution_count": 7,
   "metadata": {},
   "outputs": [],
   "source": [
    "old_prompt_result = completion.choices[0].message.content"
   ]
  },
  {
   "cell_type": "code",
   "execution_count": 9,
   "metadata": {},
   "outputs": [],
   "source": [
    "prompt_shopping = \"Produce a shopping list, and please don't include ingredients that I already have at home: \"\n",
    "new_prompt = f\"Given ingredients at home {ingredients} and these generated recipes: {old_prompt_result}, {prompt_shopping}\"\n",
    "messages = [{\"role\": \"user\", \"content\": new_prompt}]"
   ]
  },
  {
   "cell_type": "code",
   "execution_count": 10,
   "metadata": {},
   "outputs": [
    {
     "name": "stdout",
     "output_type": "stream",
     "text": [
      "Based on the recipe for Roasted Potatoes and Carrots, here’s a shopping list excluding the ingredients you already have at home (potatoes and carrots):\n",
      "\n",
      "### Shopping List:\n",
      "- Olive oil\n",
      "- Garlic powder\n",
      "- Dried thyme (or fresh thyme, if preferred)\n",
      "- Paprika\n",
      "- Salt\n",
      "- Pepper\n",
      "- Fresh parsley (for garnish, optional)\n",
      "\n",
      "Make sure to check your pantry for the spices and oil before heading out! Enjoy your cooking!\n"
     ]
    }
   ],
   "source": [
    "completion = client.chat.completions.create(\n",
    "    model=deployment,\n",
    "    messages=messages,\n",
    "    max_tokens=600,\n",
    "    temperature=0,\n",
    ")\n",
    "\n",
    "print(completion.choices[0].message.content)"
   ]
  },
  {
   "cell_type": "code",
   "execution_count": null,
   "metadata": {},
   "outputs": [],
   "source": []
  }
 ],
 "metadata": {
  "kernelspec": {
   "display_name": "azure_ai",
   "language": "python",
   "name": "python3"
  },
  "language_info": {
   "codemirror_mode": {
    "name": "ipython",
    "version": 3
   },
   "file_extension": ".py",
   "mimetype": "text/x-python",
   "name": "python",
   "nbconvert_exporter": "python",
   "pygments_lexer": "ipython3",
   "version": "3.12.9"
  }
 },
 "nbformat": 4,
 "nbformat_minor": 2
}
